{
 "cells": [
  {
   "cell_type": "code",
   "execution_count": null,
   "metadata": {},
   "outputs": [
    {
     "name": "stdout",
     "output_type": "stream",
     "text": [
      "The IP address of google.com is 216.58.204.78\n",
      "The IP address of facebook.com is 163.70.151.35\n",
      "The IP address of openai.com is 172.64.154.211\n"
     ]
    }
   ],
   "source": [
    "# Exercise 1: Try 3 websites and report their IP addresses.\n",
    "import socket\n",
    "\n",
    "def get_ip_address(website_url):\n",
    "    try:\n",
    "        ip_address = socket.gethostbyname(website_url)\n",
    "        print(f\"The IP address of {website_url} is {ip_address}\")\n",
    "    except socket.gaierror:\n",
    "        print(f\"Unable to get the IP address for {website_url}\")\n",
    "\n",
    "# List of websites to check\n",
    "websites = [\"google.com\", \"facebook.com\", \"openai.com\"]\n",
    "\n",
    "# Loop through each website and get its IP address\n",
    "for website in websites:\n",
    "    get_ip_address(website)\n"
   ]
  },
  {
   "cell_type": "code",
   "execution_count": 5,
   "metadata": {},
   "outputs": [
    {
     "name": "stdout",
     "output_type": "stream",
     "text": [
      "\n",
      "Tracing route to google.com...\n",
      "\n",
      "\n",
      "Tracing route to google.com [172.217.16.238]\n",
      "over a maximum of 30 hops:\n",
      "\n",
      "  1    53 ms     3 ms     1 ms  172.20.10.1 \n",
      "  2     *        *        *     Request timed out.\n",
      "  3     *        *      168 ms  172.20.134.129 \n",
      "  4     *        *        *     Request timed out.\n",
      "  5     *        *        *     Request timed out.\n",
      "  6     *        *        *     Request timed out.\n",
      "  7     *        *        *     Request timed out.\n",
      "  8   104 ms    61 ms    41 ms  172.20.170.178 \n",
      "  9     *       86 ms    32 ms  185.153.237.154 \n",
      " 10     *        *        *     Request timed out.\n",
      " 11   133 ms    45 ms    73 ms  216.239.48.217 \n",
      " 12   116 ms   104 ms   205 ms  142.251.52.151 \n",
      " 13   100 ms   111 ms    53 ms  lhr48s28-in-f14.1e100.net [172.217.16.238] \n",
      "\n",
      "Trace complete.\n",
      "\n",
      "\n",
      "Tracing route to facebook.com...\n",
      "\n",
      "\n",
      "Tracing route to facebook.com [157.240.221.35]\n",
      "over a maximum of 30 hops:\n",
      "\n",
      "  1     2 ms     2 ms     2 ms  172.20.10.1 \n",
      "  2     *        *        *     Request timed out.\n",
      "  3   117 ms    87 ms   101 ms  172.20.134.97 \n",
      "  4     *        *        *     Request timed out.\n",
      "  5     *        *        *     Request timed out.\n",
      "  6     *        *        *     Request timed out.\n",
      "  7     *        *        *     Request timed out.\n",
      "  8    97 ms    16 ms    66 ms  172.20.170.182 \n",
      "  9     *        *        *     Request timed out.\n",
      " 10    64 ms    41 ms    41 ms  po182.asw02.lhr7.tfbnw.net [129.134.100.182] \n",
      " 11    68 ms    79 ms    33 ms  psw04.lhr8.tfbnw.net [129.134.57.126] \n",
      " 12    76 ms    56 ms    24 ms  163.77.195.252 \n",
      " 13   105 ms    46 ms    32 ms  edge-star-mini-shv-01-lhr8.facebook.com [157.240.221.35] \n",
      "\n",
      "Trace complete.\n",
      "\n",
      "\n",
      "Tracing route to 8.8.8.8...\n",
      "\n",
      "\n",
      "Tracing route to dns.google [8.8.8.8]\n",
      "over a maximum of 30 hops:\n",
      "\n",
      "  1     2 ms     2 ms     2 ms  172.20.10.1 \n",
      "  2     *        *        *     Request timed out.\n",
      "  3   112 ms    15 ms    73 ms  172.20.134.97 \n",
      "  4     *        *        *     Request timed out.\n",
      "  5     *        *        *     Request timed out.\n",
      "  6   179 ms   140 ms    83 ms  172.20.176.21 \n",
      "  7     *        *        *     Request timed out.\n",
      "  8     *      115 ms    35 ms  172.20.103.54 \n",
      "  9     *      164 ms    68 ms  142.250.162.45 \n",
      " 10   121 ms    31 ms    48 ms  142.250.162.44 \n",
      " 11    91 ms    31 ms    53 ms  216.239.41.53 \n",
      " 12     *        *        *     Request timed out.\n",
      " 13     *      175 ms   102 ms  dns.google [8.8.8.8] \n",
      "\n",
      "Trace complete.\n",
      "\n"
     ]
    }
   ],
   "source": [
    "# Exercise 2: Experiment with 3 different domain names and IP\n",
    "addresses to see the trace route information.\n",
    "import subprocess\n",
    "\n",
    "def tracert(domain):\n",
    "    try:\n",
    "        result = subprocess.run([\"tracert\", domain], capture_output=True, text=True)\n",
    "        print(result.stdout)\n",
    "    except FileNotFoundError:\n",
    "        print(\"tracert command not found. Make sure it's available.\")\n",
    "    except Exception as e:  # Catching general exceptions\n",
    "        print(f\"An error occurred: {e}\")\n",
    "\n",
    "# Experimenting with 3 different domains and IPs\n",
    "domains = [\"google.com\", \"facebook.com\", \"8.8.8.8\"]  \n",
    "\n",
    "for domain in domains:\n",
    "    print(f\"\\nTracing route to {domain}...\\n\")\n",
    "    tracert(domain)\n"
   ]
  }
 ],
 "metadata": {
  "kernelspec": {
   "display_name": "base",
   "language": "python",
   "name": "python3"
  },
  "language_info": {
   "codemirror_mode": {
    "name": "ipython",
    "version": 3
   },
   "file_extension": ".py",
   "mimetype": "text/x-python",
   "name": "python",
   "nbconvert_exporter": "python",
   "pygments_lexer": "ipython3",
   "version": "3.12.4"
  }
 },
 "nbformat": 4,
 "nbformat_minor": 2
}
